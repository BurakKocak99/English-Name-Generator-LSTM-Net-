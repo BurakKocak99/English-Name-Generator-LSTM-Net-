{
 "cells": [
  {
   "cell_type": "code",
   "execution_count": 1,
   "id": "correct-explorer",
   "metadata": {
    "execution": {
     "iopub.execute_input": "2021-08-07T14:30:30.667683Z",
     "iopub.status.busy": "2021-08-07T14:30:30.667045Z",
     "iopub.status.idle": "2021-08-07T14:30:32.519951Z",
     "shell.execute_reply": "2021-08-07T14:30:32.518849Z"
    },
    "papermill": {
     "duration": 1.875457,
     "end_time": "2021-08-07T14:30:32.520202",
     "exception": false,
     "start_time": "2021-08-07T14:30:30.644745",
     "status": "completed"
    },
    "tags": []
   },
   "outputs": [],
   "source": [
    "import torch\n",
    "from torch import nn\n",
    "from collections import Counter\n",
    "from itertools import chain\n",
    "import copy\n",
    "import numpy as np\n",
    "from torch import nn, optim\n",
    "from torch.utils.data import DataLoader\n",
    "import random\n",
    "\n",
    "class Model(nn.Module):\n",
    "    def __init__(self, dataset):\n",
    "        super(Model, self).__init__()\n",
    "        self.lstm_size = 128\n",
    "        self.embedding_dim = 128\n",
    "        self.num_layers = 3\n",
    "\n",
    "        n_vocab = len(dataset.all_letters)\n",
    "        self.embedding = nn.Embedding(\n",
    "            num_embeddings=n_vocab,\n",
    "            embedding_dim=self.embedding_dim,\n",
    "        )\n",
    "        self.lstm = nn.LSTM(\n",
    "            input_size=self.lstm_size,\n",
    "            hidden_size=self.lstm_size,\n",
    "            num_layers=self.num_layers,\n",
    "            dropout=0.2,\n",
    "        )\n",
    "        self.fc = nn.Linear(self.lstm_size, n_vocab)\n",
    "\n",
    "    def forward(self, x, prev_state):\n",
    "        embed = self.embedding(x)\n",
    "        output, state = self.lstm(embed, prev_state)\n",
    "        logits = self.fc(output)\n",
    "        return logits, state\n",
    "\n",
    "    def init_state(self, sequence_length):\n",
    "        return (torch.zeros(self.num_layers, sequence_length, self.lstm_size),\n",
    "                torch.zeros(self.num_layers, sequence_length, self.lstm_size))"
   ]
  },
  {
   "cell_type": "code",
   "execution_count": 2,
   "id": "formed-conservation",
   "metadata": {
    "execution": {
     "iopub.execute_input": "2021-08-07T14:30:32.554077Z",
     "iopub.status.busy": "2021-08-07T14:30:32.551755Z",
     "iopub.status.idle": "2021-08-07T14:30:32.554845Z",
     "shell.execute_reply": "2021-08-07T14:30:32.555326Z"
    },
    "papermill": {
     "duration": 0.025919,
     "end_time": "2021-08-07T14:30:32.555468",
     "exception": false,
     "start_time": "2021-08-07T14:30:32.529549",
     "status": "completed"
    },
    "tags": []
   },
   "outputs": [],
   "source": [
    "class CustomTextDataset(torch.utils.data.Dataset):\n",
    "    def __init__(self,window_size):\n",
    "        #self.lines = Read_file(\"../input/shakespere/shakespeare.txt\")\n",
    "        \n",
    "        f = open(\"../input/english-names-dataset/English.txt\")\n",
    "        self.lines = f.read()\n",
    "        self.all_letters = self.get_uniq_words()\n",
    "        self.c2ix = None\n",
    "        self.ix2c = None\n",
    "        self.window_size = window_size\n",
    "        self.c2ix = {c: self.all_letters.index(c) for c in self.all_letters}\n",
    "        #self.c2ix[\"\\n\"] = 53-1\n",
    "        self.ix2c = {i: c  for c , i  in self.c2ix.items()}\n",
    "        self.long_seq = []\n",
    "       \n",
    "        for names in self.lines:\n",
    "            #for letter in names:\n",
    "            self.long_seq.append(self.c2ix[names])\n",
    "       \n",
    "    def __len__(self):\n",
    "        return len(self.long_seq)\n",
    "\n",
    "    def get_uniq_words(self):\n",
    "        word_counts = Counter(self.lines)\n",
    "        return sorted(word_counts, key=word_counts.get, reverse=True)\n",
    "\n",
    "    def __getitem__(self, idx):\n",
    "        \n",
    "        if idx + self.window_size+1 > len(self.long_seq):\n",
    "            \n",
    "            diff = idx+self.window_size+1 - len(self.long_seq)\n",
    "            \n",
    "            input_sequence = copy.deepcopy(np.concatenate([self.long_seq[idx:],self.long_seq[0:(diff-1)]]))\n",
    "            \n",
    "            target_sequence = copy.deepcopy(np.concatenate([self.long_seq[(idx+1):],self.long_seq[0:(diff)]]))\n",
    "            \n",
    "        else:\n",
    "            input_sequence = copy.deepcopy(self.long_seq[idx:(self.window_size+idx)])\n",
    "            target_sequence = copy.deepcopy(self.long_seq[(idx+1):(self.window_size+idx+1)])\n",
    "            \n",
    "       \n",
    "        return torch.tensor(input_sequence) , torch.tensor(target_sequence)\n",
    "        \n",
    "       "
   ]
  },
  {
   "cell_type": "code",
   "execution_count": 3,
   "id": "tracked-cosmetic",
   "metadata": {
    "execution": {
     "iopub.execute_input": "2021-08-07T14:30:32.577758Z",
     "iopub.status.busy": "2021-08-07T14:30:32.577176Z",
     "iopub.status.idle": "2021-08-07T14:30:32.639340Z",
     "shell.execute_reply": "2021-08-07T14:30:32.638888Z"
    },
    "papermill": {
     "duration": 0.074751,
     "end_time": "2021-08-07T14:30:32.639447",
     "exception": false,
     "start_time": "2021-08-07T14:30:32.564696",
     "status": "completed"
    },
    "tags": []
   },
   "outputs": [
    {
     "name": "stdout",
     "output_type": "stream",
     "text": [
      "['\\n', 'e', 'n', 'r', 'o', 'a', 'l', 'i', 't', 's', 'd', 'h', 'y', 'c', 'm', 'g', 'u', 'k', 'w', 'b', 'B', 'C', 'D', 'F', 'G', 'H', 'K', 'L', 'M', 'P', 'R', 'S', 'T', 'W', 'A', 'p', 'E', 'f', 'v', 'N', 'O', 'J', 'V', 'I', 'Y', 'x', 'z', 'U', 'Q', 'q', 'j', ' ', 'Z']\n"
     ]
    }
   ],
   "source": [
    "window_size = 10\n",
    "dataset = CustomTextDataset(window_size)\n",
    "print(dataset.get_uniq_words())\n",
    "model = Model(dataset)"
   ]
  },
  {
   "cell_type": "code",
   "execution_count": 4,
   "id": "successful-shoot",
   "metadata": {
    "execution": {
     "iopub.execute_input": "2021-08-07T14:30:32.666723Z",
     "iopub.status.busy": "2021-08-07T14:30:32.665268Z",
     "iopub.status.idle": "2021-08-07T14:30:32.667877Z",
     "shell.execute_reply": "2021-08-07T14:30:32.668529Z"
    },
    "papermill": {
     "duration": 0.020446,
     "end_time": "2021-08-07T14:30:32.668680",
     "exception": false,
     "start_time": "2021-08-07T14:30:32.648234",
     "status": "completed"
    },
    "tags": []
   },
   "outputs": [],
   "source": [
    "\n",
    "def train(dataset, model, batch_size,sequence_length,max_epochs):\n",
    "    model.train()\n",
    "    model.cuda()\n",
    "    losses = []\n",
    "    dataloader = DataLoader(dataset, batch_size=batch_size)\n",
    "    criterion = nn.CrossEntropyLoss()\n",
    "    optimizer = optim.Adam(model.parameters(), lr=0.001)\n",
    "    \n",
    "    state_h, state_c = model.init_state(sequence_length)\n",
    "    state_h = state_h.cuda()\n",
    "    state_c = state_c.cuda()\n",
    "    for epoch in range(max_epochs):\n",
    "        \n",
    "        for batch, (x, y) in enumerate(dataloader):\n",
    "            optimizer.zero_grad()\n",
    "        \n",
    "            y_pred, (state_h, state_c) = model(x.type(torch.LongTensor).cuda(), (state_h, state_c))\n",
    "            \n",
    "            loss = criterion(y_pred.transpose(1, 2), y.type(torch.LongTensor).cuda())\n",
    "                             \n",
    "                             \n",
    "            state_h, state_c = model.init_state(sequence_length)\n",
    "                             \n",
    "            state_h = state_h.cuda()\n",
    "            state_c = state_c.cuda()\n",
    "                             \n",
    "            state_h = state_h.detach()\n",
    "            state_c = state_c.detach()\n",
    "                             \n",
    "            losses.append(loss.item())\n",
    "            loss.backward()\n",
    "            optimizer.step()\n",
    "            \n",
    "\n",
    "        print({ 'epoch': epoch, 'loss': losses[-1] })\n",
    "    return losses         "
   ]
  },
  {
   "cell_type": "code",
   "execution_count": 5,
   "id": "existing-necklace",
   "metadata": {
    "execution": {
     "iopub.execute_input": "2021-08-07T14:30:32.744076Z",
     "iopub.status.busy": "2021-08-07T14:30:32.743461Z",
     "iopub.status.idle": "2021-08-07T15:01:28.181569Z",
     "shell.execute_reply": "2021-08-07T15:01:28.182229Z"
    },
    "papermill": {
     "duration": 1855.503569,
     "end_time": "2021-08-07T15:01:28.182443",
     "exception": false,
     "start_time": "2021-08-07T14:30:32.678874",
     "status": "completed"
    },
    "tags": []
   },
   "outputs": [
    {
     "name": "stdout",
     "output_type": "stream",
     "text": [
      "{'epoch': 0, 'loss': 3.0539915561676025}\n",
      "{'epoch': 1, 'loss': 2.799452543258667}\n",
      "{'epoch': 2, 'loss': 2.745736598968506}\n",
      "{'epoch': 3, 'loss': 2.746486186981201}\n",
      "{'epoch': 4, 'loss': 2.764843225479126}\n",
      "{'epoch': 5, 'loss': 2.7388007640838623}\n",
      "{'epoch': 6, 'loss': 2.6943342685699463}\n",
      "{'epoch': 7, 'loss': 2.7133235931396484}\n",
      "{'epoch': 8, 'loss': 2.7207322120666504}\n",
      "{'epoch': 9, 'loss': 2.6730172634124756}\n",
      "{'epoch': 10, 'loss': 2.671095132827759}\n",
      "{'epoch': 11, 'loss': 2.628385066986084}\n",
      "{'epoch': 12, 'loss': 2.616722822189331}\n",
      "{'epoch': 13, 'loss': 2.5788514614105225}\n",
      "{'epoch': 14, 'loss': 2.5341036319732666}\n",
      "{'epoch': 15, 'loss': 2.4515438079833984}\n",
      "{'epoch': 16, 'loss': 2.4643714427948}\n",
      "{'epoch': 17, 'loss': 2.450512409210205}\n",
      "{'epoch': 18, 'loss': 2.4239604473114014}\n",
      "{'epoch': 19, 'loss': 2.4098894596099854}\n",
      "{'epoch': 20, 'loss': 2.3670058250427246}\n",
      "{'epoch': 21, 'loss': 2.3385839462280273}\n",
      "{'epoch': 22, 'loss': 2.318629503250122}\n",
      "{'epoch': 23, 'loss': 2.2476110458374023}\n",
      "{'epoch': 24, 'loss': 2.2563116550445557}\n",
      "{'epoch': 25, 'loss': 2.149249315261841}\n",
      "{'epoch': 26, 'loss': 2.101973056793213}\n",
      "{'epoch': 27, 'loss': 2.0243513584136963}\n",
      "{'epoch': 28, 'loss': 2.0680503845214844}\n",
      "{'epoch': 29, 'loss': 2.05491042137146}\n",
      "{'epoch': 30, 'loss': 2.001847505569458}\n",
      "{'epoch': 31, 'loss': 1.9380027055740356}\n",
      "{'epoch': 32, 'loss': 1.893271565437317}\n",
      "{'epoch': 33, 'loss': 1.8864485025405884}\n",
      "{'epoch': 34, 'loss': 1.7547200918197632}\n",
      "{'epoch': 35, 'loss': 1.7069215774536133}\n",
      "{'epoch': 36, 'loss': 1.663421392440796}\n",
      "{'epoch': 37, 'loss': 1.6417628526687622}\n",
      "{'epoch': 38, 'loss': 1.6424793004989624}\n",
      "{'epoch': 39, 'loss': 1.5566869974136353}\n",
      "{'epoch': 40, 'loss': 1.5592015981674194}\n",
      "{'epoch': 41, 'loss': 1.496045708656311}\n",
      "{'epoch': 42, 'loss': 1.5123852491378784}\n",
      "{'epoch': 43, 'loss': 1.4363141059875488}\n",
      "{'epoch': 44, 'loss': 1.3807586431503296}\n",
      "{'epoch': 45, 'loss': 1.2819392681121826}\n",
      "{'epoch': 46, 'loss': 1.2947736978530884}\n",
      "{'epoch': 47, 'loss': 1.19683039188385}\n",
      "{'epoch': 48, 'loss': 1.180992841720581}\n",
      "{'epoch': 49, 'loss': 1.058578610420227}\n",
      "{'epoch': 50, 'loss': 1.0366954803466797}\n",
      "{'epoch': 51, 'loss': 0.9842648506164551}\n",
      "{'epoch': 52, 'loss': 0.9884805083274841}\n",
      "{'epoch': 53, 'loss': 0.8823488354682922}\n",
      "{'epoch': 54, 'loss': 0.8100188970565796}\n",
      "{'epoch': 55, 'loss': 0.7791677117347717}\n",
      "{'epoch': 56, 'loss': 0.7765606641769409}\n",
      "{'epoch': 57, 'loss': 0.642428457736969}\n",
      "{'epoch': 58, 'loss': 0.6289704442024231}\n",
      "{'epoch': 59, 'loss': 0.5684137344360352}\n",
      "{'epoch': 60, 'loss': 0.6057049632072449}\n",
      "{'epoch': 61, 'loss': 0.5810508728027344}\n",
      "{'epoch': 62, 'loss': 0.6190347075462341}\n",
      "{'epoch': 63, 'loss': 0.501007080078125}\n",
      "{'epoch': 64, 'loss': 0.49806535243988037}\n",
      "{'epoch': 65, 'loss': 0.4624653160572052}\n",
      "{'epoch': 66, 'loss': 0.418412983417511}\n",
      "{'epoch': 67, 'loss': 0.3891596794128418}\n",
      "{'epoch': 68, 'loss': 0.3985082805156708}\n",
      "{'epoch': 69, 'loss': 0.36626237630844116}\n",
      "{'epoch': 70, 'loss': 0.35452407598495483}\n",
      "{'epoch': 71, 'loss': 0.3340941369533539}\n",
      "{'epoch': 72, 'loss': 0.32438018918037415}\n",
      "{'epoch': 73, 'loss': 0.30427831411361694}\n",
      "{'epoch': 74, 'loss': 0.2941831946372986}\n",
      "{'epoch': 75, 'loss': 0.32419702410697937}\n",
      "{'epoch': 76, 'loss': 0.3040006160736084}\n",
      "{'epoch': 77, 'loss': 0.38400042057037354}\n",
      "{'epoch': 78, 'loss': 0.31565189361572266}\n",
      "{'epoch': 79, 'loss': 0.25275662541389465}\n",
      "{'epoch': 80, 'loss': 0.2534654438495636}\n",
      "{'epoch': 81, 'loss': 0.24209414422512054}\n",
      "{'epoch': 82, 'loss': 0.2337043136358261}\n",
      "{'epoch': 83, 'loss': 0.25080567598342896}\n",
      "{'epoch': 84, 'loss': 0.26556286215782166}\n",
      "{'epoch': 85, 'loss': 0.2773374021053314}\n",
      "{'epoch': 86, 'loss': 0.2408086210489273}\n",
      "{'epoch': 87, 'loss': 0.2470637410879135}\n",
      "{'epoch': 88, 'loss': 0.23860259354114532}\n",
      "{'epoch': 89, 'loss': 0.20924967527389526}\n",
      "{'epoch': 90, 'loss': 0.20565782487392426}\n",
      "{'epoch': 91, 'loss': 0.20773184299468994}\n",
      "{'epoch': 92, 'loss': 0.20886588096618652}\n",
      "{'epoch': 93, 'loss': 0.18909531831741333}\n",
      "{'epoch': 94, 'loss': 0.18151749670505524}\n",
      "{'epoch': 95, 'loss': 0.19990001618862152}\n",
      "{'epoch': 96, 'loss': 0.16537468135356903}\n",
      "{'epoch': 97, 'loss': 0.18720220029354095}\n",
      "{'epoch': 98, 'loss': 0.18491439521312714}\n",
      "{'epoch': 99, 'loss': 0.17868800461292267}\n",
      "{'epoch': 100, 'loss': 0.18886229395866394}\n",
      "{'epoch': 101, 'loss': 0.1927725374698639}\n",
      "{'epoch': 102, 'loss': 0.15396086871623993}\n",
      "{'epoch': 103, 'loss': 0.16762059926986694}\n",
      "{'epoch': 104, 'loss': 0.16133137047290802}\n",
      "{'epoch': 105, 'loss': 0.14882035553455353}\n",
      "{'epoch': 106, 'loss': 0.1636320948600769}\n",
      "{'epoch': 107, 'loss': 0.14637474715709686}\n",
      "{'epoch': 108, 'loss': 0.15093931555747986}\n",
      "{'epoch': 109, 'loss': 0.1485198736190796}\n",
      "{'epoch': 110, 'loss': 0.14807595312595367}\n",
      "{'epoch': 111, 'loss': 0.1809585988521576}\n",
      "{'epoch': 112, 'loss': 0.13936768472194672}\n",
      "{'epoch': 113, 'loss': 0.17120644450187683}\n",
      "{'epoch': 114, 'loss': 0.164873406291008}\n",
      "{'epoch': 115, 'loss': 0.14389806985855103}\n",
      "{'epoch': 116, 'loss': 0.1426105797290802}\n",
      "{'epoch': 117, 'loss': 0.1254582554101944}\n",
      "{'epoch': 118, 'loss': 0.12554940581321716}\n",
      "{'epoch': 119, 'loss': 0.13039471209049225}\n",
      "{'epoch': 120, 'loss': 0.1507706344127655}\n",
      "{'epoch': 121, 'loss': 0.13846951723098755}\n",
      "{'epoch': 122, 'loss': 0.1477719396352768}\n",
      "{'epoch': 123, 'loss': 0.13128645718097687}\n",
      "{'epoch': 124, 'loss': 0.1872309446334839}\n",
      "{'epoch': 125, 'loss': 0.16141165792942047}\n",
      "{'epoch': 126, 'loss': 0.13046766817569733}\n",
      "{'epoch': 127, 'loss': 0.148249089717865}\n",
      "{'epoch': 128, 'loss': 0.1121961772441864}\n",
      "{'epoch': 129, 'loss': 0.0922846794128418}\n",
      "{'epoch': 130, 'loss': 0.10529928654432297}\n",
      "{'epoch': 131, 'loss': 0.11061728745698929}\n",
      "{'epoch': 132, 'loss': 0.10513297468423843}\n",
      "{'epoch': 133, 'loss': 0.11550696194171906}\n",
      "{'epoch': 134, 'loss': 0.11682753264904022}\n",
      "{'epoch': 135, 'loss': 0.12217563390731812}\n",
      "{'epoch': 136, 'loss': 0.1427878588438034}\n",
      "{'epoch': 137, 'loss': 0.1634748876094818}\n",
      "{'epoch': 138, 'loss': 0.1918405294418335}\n",
      "{'epoch': 139, 'loss': 0.16170506179332733}\n",
      "{'epoch': 140, 'loss': 0.1549854278564453}\n",
      "{'epoch': 141, 'loss': 0.1204681247472763}\n",
      "{'epoch': 142, 'loss': 0.09537649899721146}\n",
      "{'epoch': 143, 'loss': 0.08958687633275986}\n",
      "{'epoch': 144, 'loss': 0.09525883942842484}\n",
      "{'epoch': 145, 'loss': 0.08439449220895767}\n",
      "{'epoch': 146, 'loss': 0.10005573183298111}\n",
      "{'epoch': 147, 'loss': 0.10047272592782974}\n",
      "{'epoch': 148, 'loss': 0.09650873392820358}\n",
      "{'epoch': 149, 'loss': 0.11448553204536438}\n",
      "{'epoch': 150, 'loss': 0.10765396058559418}\n",
      "{'epoch': 151, 'loss': 0.16301795840263367}\n",
      "{'epoch': 152, 'loss': 0.18244338035583496}\n",
      "{'epoch': 153, 'loss': 0.13213229179382324}\n",
      "{'epoch': 154, 'loss': 0.113366037607193}\n",
      "{'epoch': 155, 'loss': 0.09767812490463257}\n",
      "{'epoch': 156, 'loss': 0.10093891620635986}\n",
      "{'epoch': 157, 'loss': 0.09513484686613083}\n",
      "{'epoch': 158, 'loss': 0.08926347643136978}\n",
      "{'epoch': 159, 'loss': 0.08604705333709717}\n",
      "{'epoch': 160, 'loss': 0.09762697666883469}\n",
      "{'epoch': 161, 'loss': 0.09821771830320358}\n",
      "{'epoch': 162, 'loss': 0.10253596305847168}\n",
      "{'epoch': 163, 'loss': 0.1058710515499115}\n",
      "{'epoch': 164, 'loss': 0.11901839822530746}\n",
      "{'epoch': 165, 'loss': 0.1934114694595337}\n",
      "{'epoch': 166, 'loss': 0.17842485010623932}\n",
      "{'epoch': 167, 'loss': 0.11202966421842575}\n",
      "{'epoch': 168, 'loss': 0.0987217128276825}\n",
      "{'epoch': 169, 'loss': 0.07319706678390503}\n",
      "{'epoch': 170, 'loss': 0.10392548143863678}\n",
      "{'epoch': 171, 'loss': 0.07794539630413055}\n",
      "{'epoch': 172, 'loss': 0.08829917758703232}\n",
      "{'epoch': 173, 'loss': 0.08608745038509369}\n",
      "{'epoch': 174, 'loss': 0.1861155480146408}\n",
      "{'epoch': 175, 'loss': 0.11881332844495773}\n",
      "{'epoch': 176, 'loss': 0.0948377177119255}\n",
      "{'epoch': 177, 'loss': 0.07668859511613846}\n",
      "{'epoch': 178, 'loss': 0.10344436764717102}\n",
      "{'epoch': 179, 'loss': 0.09303231537342072}\n",
      "{'epoch': 180, 'loss': 0.08625064045190811}\n",
      "{'epoch': 181, 'loss': 0.0968642309308052}\n",
      "{'epoch': 182, 'loss': 0.13343165814876556}\n",
      "{'epoch': 183, 'loss': 0.11473097652196884}\n",
      "{'epoch': 184, 'loss': 0.10168128460645676}\n",
      "{'epoch': 185, 'loss': 0.12209591269493103}\n",
      "{'epoch': 186, 'loss': 0.09061779081821442}\n",
      "{'epoch': 187, 'loss': 0.08151576668024063}\n",
      "{'epoch': 188, 'loss': 0.08473121374845505}\n",
      "{'epoch': 189, 'loss': 0.0679192915558815}\n",
      "{'epoch': 190, 'loss': 0.08526802062988281}\n",
      "{'epoch': 191, 'loss': 0.07740955054759979}\n",
      "{'epoch': 192, 'loss': 0.08647783100605011}\n",
      "{'epoch': 193, 'loss': 0.07977943122386932}\n",
      "{'epoch': 194, 'loss': 0.07659757137298584}\n",
      "{'epoch': 195, 'loss': 0.07304637879133224}\n",
      "{'epoch': 196, 'loss': 0.0858953520655632}\n",
      "{'epoch': 197, 'loss': 0.1287507712841034}\n",
      "{'epoch': 198, 'loss': 0.16577884554862976}\n",
      "{'epoch': 199, 'loss': 0.11303896456956863}\n",
      "{'epoch': 200, 'loss': 0.11034291237592697}\n",
      "{'epoch': 201, 'loss': 0.09660780429840088}\n",
      "{'epoch': 202, 'loss': 0.06959966570138931}\n",
      "{'epoch': 203, 'loss': 0.081100694835186}\n",
      "{'epoch': 204, 'loss': 0.07373569905757904}\n",
      "{'epoch': 205, 'loss': 0.07836367934942245}\n",
      "{'epoch': 206, 'loss': 0.07519122958183289}\n",
      "{'epoch': 207, 'loss': 0.07946714013814926}\n",
      "{'epoch': 208, 'loss': 0.15754486620426178}\n",
      "{'epoch': 209, 'loss': 0.14565186202526093}\n",
      "{'epoch': 210, 'loss': 0.14641915261745453}\n",
      "{'epoch': 211, 'loss': 0.15529029071331024}\n",
      "{'epoch': 212, 'loss': 0.0916251465678215}\n",
      "{'epoch': 213, 'loss': 0.07473652064800262}\n",
      "{'epoch': 214, 'loss': 0.07223767787218094}\n",
      "{'epoch': 215, 'loss': 0.07772506773471832}\n",
      "{'epoch': 216, 'loss': 0.06315261870622635}\n",
      "{'epoch': 217, 'loss': 0.07447047531604767}\n",
      "{'epoch': 218, 'loss': 0.07088000327348709}\n",
      "{'epoch': 219, 'loss': 0.0737302377820015}\n",
      "{'epoch': 220, 'loss': 0.0667896717786789}\n",
      "{'epoch': 221, 'loss': 0.07722959667444229}\n",
      "{'epoch': 222, 'loss': 0.10074508190155029}\n",
      "{'epoch': 223, 'loss': 0.07805045694112778}\n",
      "{'epoch': 224, 'loss': 0.0845000147819519}\n",
      "{'epoch': 225, 'loss': 0.07817552983760834}\n",
      "{'epoch': 226, 'loss': 0.11306759715080261}\n",
      "{'epoch': 227, 'loss': 0.08653558045625687}\n",
      "{'epoch': 228, 'loss': 0.08617063611745834}\n",
      "{'epoch': 229, 'loss': 0.07549785077571869}\n",
      "{'epoch': 230, 'loss': 0.10304781794548035}\n",
      "{'epoch': 231, 'loss': 0.07691767066717148}\n",
      "{'epoch': 232, 'loss': 0.07822518050670624}\n",
      "{'epoch': 233, 'loss': 0.06549151986837387}\n",
      "{'epoch': 234, 'loss': 0.06719417124986649}\n",
      "{'epoch': 235, 'loss': 0.08451241999864578}\n",
      "{'epoch': 236, 'loss': 0.07377862185239792}\n",
      "{'epoch': 237, 'loss': 0.07371308654546738}\n",
      "{'epoch': 238, 'loss': 0.11415311694145203}\n",
      "{'epoch': 239, 'loss': 0.11608915776014328}\n",
      "{'epoch': 240, 'loss': 0.1312548816204071}\n",
      "{'epoch': 241, 'loss': 0.11593509465456009}\n",
      "{'epoch': 242, 'loss': 0.0852515920996666}\n",
      "{'epoch': 243, 'loss': 0.08951875567436218}\n",
      "{'epoch': 244, 'loss': 0.06984962522983551}\n",
      "{'epoch': 245, 'loss': 0.07105232030153275}\n",
      "{'epoch': 246, 'loss': 0.07339118421077728}\n",
      "{'epoch': 247, 'loss': 0.06714218854904175}\n",
      "{'epoch': 248, 'loss': 0.06269140541553497}\n",
      "{'epoch': 249, 'loss': 0.05951480194926262}\n",
      "{'epoch': 250, 'loss': 0.06877599656581879}\n",
      "{'epoch': 251, 'loss': 0.09256225824356079}\n",
      "{'epoch': 252, 'loss': 0.06720302253961563}\n",
      "{'epoch': 253, 'loss': 0.0910973846912384}\n",
      "{'epoch': 254, 'loss': 0.07962524890899658}\n",
      "{'epoch': 255, 'loss': 0.09439964592456818}\n",
      "{'epoch': 256, 'loss': 0.08341667056083679}\n",
      "{'epoch': 257, 'loss': 0.10701747983694077}\n",
      "{'epoch': 258, 'loss': 0.08761102706193924}\n",
      "{'epoch': 259, 'loss': 0.07885117083787918}\n",
      "{'epoch': 260, 'loss': 0.07338505238294601}\n",
      "{'epoch': 261, 'loss': 0.08200987428426743}\n",
      "{'epoch': 262, 'loss': 0.06686125695705414}\n",
      "{'epoch': 263, 'loss': 0.066495880484581}\n",
      "{'epoch': 264, 'loss': 0.0739048570394516}\n",
      "{'epoch': 265, 'loss': 0.07672664523124695}\n",
      "{'epoch': 266, 'loss': 0.07087934017181396}\n",
      "{'epoch': 267, 'loss': 0.07369981706142426}\n",
      "{'epoch': 268, 'loss': 0.07633000612258911}\n",
      "{'epoch': 269, 'loss': 0.07364825159311295}\n",
      "{'epoch': 270, 'loss': 0.08697100728750229}\n",
      "{'epoch': 271, 'loss': 0.07586652785539627}\n",
      "{'epoch': 272, 'loss': 0.08708445727825165}\n",
      "{'epoch': 273, 'loss': 0.13593387603759766}\n",
      "{'epoch': 274, 'loss': 0.08553372323513031}\n",
      "{'epoch': 275, 'loss': 0.07305198162794113}\n",
      "{'epoch': 276, 'loss': 0.06985898315906525}\n",
      "{'epoch': 277, 'loss': 0.07720986008644104}\n",
      "{'epoch': 278, 'loss': 0.06013748422265053}\n",
      "{'epoch': 279, 'loss': 0.07670196890830994}\n",
      "{'epoch': 280, 'loss': 0.06355471163988113}\n",
      "{'epoch': 281, 'loss': 0.062428198754787445}\n",
      "{'epoch': 282, 'loss': 0.05326293408870697}\n",
      "{'epoch': 283, 'loss': 0.07145382463932037}\n",
      "{'epoch': 284, 'loss': 0.07282648980617523}\n",
      "{'epoch': 285, 'loss': 0.0722590759396553}\n",
      "{'epoch': 286, 'loss': 0.0981997698545456}\n",
      "{'epoch': 287, 'loss': 0.08387194573879242}\n",
      "{'epoch': 288, 'loss': 0.07215066254138947}\n",
      "{'epoch': 289, 'loss': 0.11020686477422714}\n",
      "{'epoch': 290, 'loss': 0.10825368016958237}\n",
      "{'epoch': 291, 'loss': 0.09445911645889282}\n",
      "{'epoch': 292, 'loss': 0.07855008542537689}\n",
      "{'epoch': 293, 'loss': 0.06838268786668777}\n",
      "{'epoch': 294, 'loss': 0.07287245988845825}\n",
      "{'epoch': 295, 'loss': 0.07035157084465027}\n",
      "{'epoch': 296, 'loss': 0.07620127499103546}\n",
      "{'epoch': 297, 'loss': 0.08560086041688919}\n",
      "{'epoch': 298, 'loss': 0.06213011220097542}\n",
      "{'epoch': 299, 'loss': 0.061409275978803635}\n"
     ]
    }
   ],
   "source": [
    "losses = train(dataset,model,128,window_size,300)"
   ]
  },
  {
   "cell_type": "code",
   "execution_count": 6,
   "id": "addressed-return",
   "metadata": {
    "execution": {
     "iopub.execute_input": "2021-08-07T15:01:28.353792Z",
     "iopub.status.busy": "2021-08-07T15:01:28.353232Z",
     "iopub.status.idle": "2021-08-07T15:01:28.356589Z",
     "shell.execute_reply": "2021-08-07T15:01:28.356162Z"
    },
    "papermill": {
     "duration": 0.091848,
     "end_time": "2021-08-07T15:01:28.356695",
     "exception": false,
     "start_time": "2021-08-07T15:01:28.264847",
     "status": "completed"
    },
    "tags": []
   },
   "outputs": [],
   "source": [
    "def predict(dataset, model, text, next_words=100):\n",
    "    model.eval()\n",
    "    model.cpu()\n",
    "    words = [text]\n",
    "    state_h, state_c = model.init_state(len(words))\n",
    "\n",
    "    for i in range(0, next_words):\n",
    "        x = torch.tensor([[dataset.c2ix[w] for w in words[i:]]])\n",
    "        y_pred, (state_h, state_c) = model(x, (state_h, state_c))\n",
    "\n",
    "        last_word_logits = y_pred[0][-1]\n",
    "        p = torch.nn.functional.softmax(last_word_logits, dim=0).detach().numpy()\n",
    "        word_index = np.random.choice(len(last_word_logits), p=p)\n",
    "        if dataset.ix2c[word_index] == '\\n':\n",
    "            break\n",
    "        words.append(dataset.ix2c[word_index])\n",
    "\n",
    "    return words"
   ]
  },
  {
   "cell_type": "code",
   "execution_count": 7,
   "id": "southern-chrome",
   "metadata": {
    "execution": {
     "iopub.execute_input": "2021-08-07T15:01:28.528223Z",
     "iopub.status.busy": "2021-08-07T15:01:28.527335Z",
     "iopub.status.idle": "2021-08-07T15:01:28.659342Z",
     "shell.execute_reply": "2021-08-07T15:01:28.659778Z"
    },
    "papermill": {
     "duration": 0.2196,
     "end_time": "2021-08-07T15:01:28.659939",
     "exception": false,
     "start_time": "2021-08-07T15:01:28.440339",
     "status": "completed"
    },
    "tags": []
   },
   "outputs": [
    {
     "name": "stdout",
     "output_type": "stream",
     "text": [
      "K e e l a n\n",
      "G e a v e r s o n\n",
      "A i t c h i s o n\n",
      "K i l l e n\n",
      "L e i t c h\n",
      "A v e r s o n\n",
      "U n n i n e\n",
      "B u r d e t t\n",
      "E g g b y\n",
      "R a i n t o n\n"
     ]
    }
   ],
   "source": [
    "num_guesses = 10\n",
    "for _ in range(num_guesses):\n",
    "    a = (predict(dataset, model, text=dataset.ix2c[random.randint(1,20)].upper()))\n",
    "    listToStr = ' '.join(map(str, a))\n",
    "    print(listToStr)"
   ]
  },
  {
   "cell_type": "code",
   "execution_count": 8,
   "id": "intelligent-cooler",
   "metadata": {
    "execution": {
     "iopub.execute_input": "2021-08-07T15:01:28.851370Z",
     "iopub.status.busy": "2021-08-07T15:01:28.848210Z",
     "iopub.status.idle": "2021-08-07T15:01:29.093433Z",
     "shell.execute_reply": "2021-08-07T15:01:29.093837Z"
    },
    "papermill": {
     "duration": 0.350118,
     "end_time": "2021-08-07T15:01:29.093997",
     "exception": false,
     "start_time": "2021-08-07T15:01:28.743879",
     "status": "completed"
    },
    "tags": []
   },
   "outputs": [
    {
     "data": {
      "text/plain": [
       "[<matplotlib.lines.Line2D at 0x7f6422675210>]"
      ]
     },
     "execution_count": 8,
     "metadata": {},
     "output_type": "execute_result"
    },
    {
     "data": {
      "image/png": "[encoded data removed]",
      "text/plain": [
       "<Figure size 432x288 with 1 Axes>"
      ]
     },
     "metadata": {
      "needs_background": "light"
     },
     "output_type": "display_data"
    }
   ],
   "source": [
    "import matplotlib.pyplot as plt\n",
    "\n",
    "plt.figure()\n",
    "plt.plot(losses)"
   ]
  },
  {
   "cell_type": "code",
   "execution_count": 9,
   "id": "peaceful-building",
   "metadata": {
    "execution": {
     "iopub.execute_input": "2021-08-07T15:01:29.265486Z",
     "iopub.status.busy": "2021-08-07T15:01:29.264789Z",
     "iopub.status.idle": "2021-08-07T15:01:29.268548Z",
     "shell.execute_reply": "2021-08-07T15:01:29.268124Z"
    },
    "papermill": {
     "duration": 0.090951,
     "end_time": "2021-08-07T15:01:29.268654",
     "exception": false,
     "start_time": "2021-08-07T15:01:29.177703",
     "status": "completed"
    },
    "tags": []
   },
   "outputs": [],
   "source": [
    "x = len(losses)/(300)\n",
    "clear = []\n",
    "for i in range(300):\n",
    "    clear.append(losses[int(i*x)])"
   ]
  },
  {
   "cell_type": "code",
   "execution_count": 10,
   "id": "sufficient-chapter",
   "metadata": {
    "execution": {
     "iopub.execute_input": "2021-08-07T15:01:29.460759Z",
     "iopub.status.busy": "2021-08-07T15:01:29.458137Z",
     "iopub.status.idle": "2021-08-07T15:01:29.591478Z",
     "shell.execute_reply": "2021-08-07T15:01:29.590606Z"
    },
    "papermill": {
     "duration": 0.239583,
     "end_time": "2021-08-07T15:01:29.591598",
     "exception": false,
     "start_time": "2021-08-07T15:01:29.352015",
     "status": "completed"
    },
    "tags": []
   },
   "outputs": [
    {
     "data": {
      "text/plain": [
       "[<matplotlib.lines.Line2D at 0x7f6422200390>]"
      ]
     },
     "execution_count": 10,
     "metadata": {},
     "output_type": "execute_result"
    },
    {
     "data": {
      "image/png": "[encoded data removed]",
      "text/plain": [
       "<Figure size 432x288 with 1 Axes>"
      ]
     },
     "metadata": {
      "needs_background": "light"
     },
     "output_type": "display_data"
    }
   ],
   "source": [
    "\n",
    "\n",
    "plt.figure()\n",
    "plt.plot(clear)"
   ]
  },
  {
   "cell_type": "code",
   "execution_count": 11,
   "id": "instant-intake",
   "metadata": {
    "execution": {
     "iopub.execute_input": "2021-08-07T15:01:29.781484Z",
     "iopub.status.busy": "2021-08-07T15:01:29.778761Z",
     "iopub.status.idle": "2021-08-07T15:01:29.786981Z",
     "shell.execute_reply": "2021-08-07T15:01:29.786288Z"
    },
    "papermill": {
     "duration": 0.101308,
     "end_time": "2021-08-07T15:01:29.787123",
     "exception": false,
     "start_time": "2021-08-07T15:01:29.685815",
     "status": "completed"
    },
    "tags": []
   },
   "outputs": [],
   "source": [
    "torch.save(model.state_dict(), \"Name_Generator_Model.pt\")"
   ]
  }
 ],
 "metadata": {
  "kernelspec": {
   "display_name": "Python 3",
   "language": "python",
   "name": "python3"
  },
  "language_info": {
   "codemirror_mode": {
    "name": "ipython",
    "version": 3
   },
   "file_extension": ".py",
   "mimetype": "text/x-python",
   "name": "python",
   "nbconvert_exporter": "python",
   "pygments_lexer": "ipython3",
   "version": "3.7.9"
  },
  "papermill": {
   "default_parameters": {},
   "duration": 1865.548593,
   "end_time": "2021-08-07T15:01:30.694344",
   "environment_variables": {},
   "exception": null,
   "input_path": "__notebook__.ipynb",
   "output_path": "__notebook__.ipynb",
   "parameters": {},
   "start_time": "2021-08-07T14:30:25.145751",
   "version": "2.3.2"
  }
 },
 "nbformat": 4,
 "nbformat_minor": 5
}
